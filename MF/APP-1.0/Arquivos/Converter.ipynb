{
 "cells": [
  {
   "cell_type": "code",
   "execution_count": 4,
   "metadata": {},
   "outputs": [],
   "source": [
    "import pandas as pd\n",
    "import numpy as np"
   ]
  },
  {
   "cell_type": "code",
   "execution_count": 5,
   "metadata": {},
   "outputs": [
    {
     "name": "stdout",
     "output_type": "stream",
     "text": [
      "         parelhos Elétricos  Dias Estimados\\nUso/Mês Média\\nUtilização/Dia  \\\n",
      "0       Aparelho de blu ray                        8                   2 h   \n",
      "1           Aparelho de DVD                        8                   2 h   \n",
      "2           Aparelho de som                       20                   3 h   \n",
      "3     Aquecedor de ambiente                       15                   8 h   \n",
      "4    Aquecedor de mamadeira                       30                15 min   \n",
      "..                      ...                      ...                   ...   \n",
      "81  TV em cores - 42\" (LED)                       30                   5 h   \n",
      "82              TV portátil                       30                   5 h   \n",
      "83       Ventilador de mesa                       30                   8 h   \n",
      "84       Ventilador de teto                       30                   8 h   \n",
      "85                Videogame                       15                   4 h   \n",
      "\n",
      "   Consumo Médio Mensal\\n(kWh)  \n",
      "0                         0,19  \n",
      "1                         0,24  \n",
      "2                          6,6  \n",
      "3                       193,44  \n",
      "4                         0,75  \n",
      "..                         ...  \n",
      "81                       30,45  \n",
      "82                        7,05  \n",
      "83                       17,28  \n",
      "84                       17,52  \n",
      "85                        1,44  \n",
      "\n",
      "[86 rows x 4 columns]\n"
     ]
    }
   ],
   "source": [
    "dados = pd.read_csv(\"consumo.csv\")\n",
    "print(dados)"
   ]
  },
  {
   "cell_type": "code",
   "execution_count": 6,
   "metadata": {},
   "outputs": [],
   "source": [
    "vec_dados = dados.to_numpy()"
   ]
  },
  {
   "cell_type": "code",
   "execution_count": 7,
   "metadata": {},
   "outputs": [
    {
     "data": {
      "text/plain": [
       "array([['Aparelho de blu ray', 8, '2 h', '0,19'],\n",
       "       ['Aparelho de DVD', 8, '2 h', '0,24'],\n",
       "       ['Aparelho de som', 20, '3 h', '6,6'],\n",
       "       ['Aquecedor de ambiente', 15, '8 h', '193,44'],\n",
       "       ['Aquecedor de mamadeira', 30, '15 min', '0,75'],\n",
       "       ['Aquecedor de marmita', 20, '30 min', '0,6'],\n",
       "       ['Ar-condicionado tipo janela menor ou igual a 9.000 BTU/h', 30,\n",
       "        '8 h', '128,8'],\n",
       "       ['Ar-condicionado tipo janela de 9.001 a 14.000 BTU/h', 30, '8 h',\n",
       "        '181,6'],\n",
       "       ['Ar-condicionado tipo janela maior que 14.000 BTU/h', 30, '8 h',\n",
       "        '374'],\n",
       "       ['Ar-condicionado tipo split menor ou igual a 10.000 BTU/h', 30,\n",
       "        '8 h', '142,28'],\n",
       "       ['Ar-condicionado tipo split de 10.001 a 15.000 BTU/h', 30, '8 h',\n",
       "        '193,76'],\n",
       "       ['Ar-condicionado tipo split de 15.001 a 20.000 BTU/h', 30, '8 h',\n",
       "        '293,68'],\n",
       "       ['Ar-condicionado tipo split de 20.001 a 30.000 BTU/h', 30, '8 h',\n",
       "        '439,2'],\n",
       "       ['Ar-condicionado tipo split maior que 30.000 BTU/h', 30, '8 h',\n",
       "        '679,2'],\n",
       "       ['Aspirador de pó', 30, '20 min', '7,17'],\n",
       "       ['Batedeira', 8, '20 min', '0,4'],\n",
       "       ['Boiler elétrico de 200 L', 30, '24 h', '346,75'],\n",
       "       [\"Bomba d'água 1/2 cv\", 30, '30 min', '7,2'],\n",
       "       [\"Bomba d'água 1/3 cv\", 30, '30 min', '6,15'],\n",
       "       ['Cafeteira elétrica', 30, '1 h', '6,56'],\n",
       "       ['Cafeteira expresso', 30, '1 h', '23,82'],\n",
       "       ['Chaleira elétrica', 30, '1 h', '28,23'],\n",
       "       ['Churrasqueira elétrica', 5, '4 h', '76'],\n",
       "       ['Chuveiro elétrico - 4500 W', 30, '32 min', '72'],\n",
       "       ['Chuveiro elétrico - 5500 W', 30, '32 min', '88'],\n",
       "       ['Computador', 30, '8 h', '15,12'],\n",
       "       ['Enceradeira', 2, '2 h', '1,8'],\n",
       "       ['Espremedor de frutas', 20, '10 min', '0,18'],\n",
       "       ['Exaustor fogão', 30, '2 h', '9,96'],\n",
       "       ['Fax modem em stand by', 30, '24 h', '2,16'],\n",
       "       ['Ferro elétrico automático a seco - 1050 W', 12, '1 h', '2,4'],\n",
       "       ['Ferro elétrico automático a vapor - 1200 W', 12, '1 h', '7,2'],\n",
       "       ['Fogão elétrico - cook top\\n(por queimador)', 30, '1 h', '68,55'],\n",
       "       ['Forno elétrico', 30, '1 h', '15'],\n",
       "       ['Forno micro-ondas - 25 L', 30, '20 min', '13,98'],\n",
       "       ['Freezer vertical/horizontal', 30, '24 h', '47,55'],\n",
       "       ['Freezer vertical frost free', 30, '24 h', '54'],\n",
       "       ['Frigobar', 30, '24 h', '18,9'],\n",
       "       ['Fritadeira elétrica', 15, '30 min', '6,81'],\n",
       "       ['Furadeira', 4, '1 h', '0,94'],\n",
       "       ['Geladeira 1 porta', 30, '24 h', '25,2'],\n",
       "       ['Geladeira 1 porta frost free', 30, '24 h', '39,6'],\n",
       "       ['Geladeira 2 portas', 30, '24 h', '48,24'],\n",
       "       ['Geladeira 2 portas frost free', 30, '24 h', '56,88'],\n",
       "       ['Grill', 10, '30 min', '3,2'],\n",
       "       ['Home theater - 350 W', 8, '2 h', '5,6'],\n",
       "       ['Impressora', 30, '1 h', '0,45'],\n",
       "       ['Lâmpada fluorescente compacta - 11 W', 30, '5 h', '1,65'],\n",
       "       ['Lâmpada fluorescente compacta - 15 W', 30, '5 h', '2,25'],\n",
       "       ['Lâmpada fluorescente compacta - 23 W', 30, '5 h', '3,45'],\n",
       "       ['Lâmpada incandescente - 40 W', 30, '5 h', '6'],\n",
       "       ['Lâmpada incandescente - 60 W', 30, '5 h', '9'],\n",
       "       ['Lâmpada incandescente - 100 W', 30, '5 h', '15'],\n",
       "       ['Lavadora de louças', 30, '40 min', '30,86'],\n",
       "       ['Lavadora de roupas', 12, '1 h', '1,76'],\n",
       "       ['Liquidificador', 15, '15 min', '0,8'],\n",
       "       ['Máquina de costura', 10, '3 h', '3'],\n",
       "       ['Modem de internet', 30, '8 h', '1,92'],\n",
       "       ['Monitor', 30, '8 h', '13,2'],\n",
       "       ['Monitor LCD', 30, '8 h', '8,16'],\n",
       "       ['Multiprocessador', 20, '1 h', '8,56'],\n",
       "       ['Nebulizador', 16, '2,5 h', '1,68'],\n",
       "       ['Notebook', 30, '8 h', '4,8'],\n",
       "       ['Panela elétrica', 20, '1 h', '22'],\n",
       "       ['Prancha (chapinha)', 20, '30 min', '0,33'],\n",
       "       ['Projetor', 20, '1 h', '4,78'],\n",
       "       ['Rádio elétrico pequeno', 30, '10 h', '1,5'],\n",
       "       ['Rádio relógio', 30, '24 h', '3,6'],\n",
       "       ['Roteador', 30, '8 h', '1,44'],\n",
       "       ['Sanduicheira', 30, '10 min', '3,35'],\n",
       "       ['Scanner', 30, '1 h', '0,27'],\n",
       "       ['Secador de cabelo - 1000 W', 30, '10 min', '5,21'],\n",
       "       ['Secadora de roupa', 8, '1 h', '14,92'],\n",
       "       ['Tanquinho', 12, '1 h', '0,84'],\n",
       "       ['Telefone sem fio', 30, '24 h', '2,16'],\n",
       "       ['Torneira elétrica - 3250 W', 30, '30 min', '48,75'],\n",
       "       ['Torradeira', 30, '10 min', '4'],\n",
       "       ['TV em cores - 14\" (tubo)', 30, '5 h', '6,3'],\n",
       "       ['TV em cores - 29\" (tubo)', 30, '5 h', '15,15'],\n",
       "       ['TV em cores - 32\" (LCD)', 30, '5 h', '14,25'],\n",
       "       ['TV em cores - 40\" (LED)', 30, '5 h', '12,45'],\n",
       "       ['TV em cores - 42\" (LED)', 30, '5 h', '30,45'],\n",
       "       ['TV portátil', 30, '5 h', '7,05'],\n",
       "       ['Ventilador de mesa', 30, '8 h', '17,28'],\n",
       "       ['Ventilador de teto', 30, '8 h', '17,52'],\n",
       "       ['Videogame', 15, '4 h', '1,44']], dtype=object)"
      ]
     },
     "execution_count": 7,
     "metadata": {},
     "output_type": "execute_result"
    }
   ],
   "source": [
    "vec_dados"
   ]
  },
  {
   "cell_type": "code",
   "execution_count": null,
   "metadata": {},
   "outputs": [],
   "source": []
  }
 ],
 "metadata": {
  "interpreter": {
   "hash": "7c239c9e803aa87c3815454c42da92f1af28c0cbd1b711d488a058e58bc0122e"
  },
  "kernelspec": {
   "display_name": "Python 3.9.7 64-bit",
   "language": "python",
   "name": "python3"
  },
  "language_info": {
   "codemirror_mode": {
    "name": "ipython",
    "version": 3
   },
   "file_extension": ".py",
   "mimetype": "text/x-python",
   "name": "python",
   "nbconvert_exporter": "python",
   "pygments_lexer": "ipython3",
   "version": "3.9.7"
  },
  "orig_nbformat": 4
 },
 "nbformat": 4,
 "nbformat_minor": 2
}
