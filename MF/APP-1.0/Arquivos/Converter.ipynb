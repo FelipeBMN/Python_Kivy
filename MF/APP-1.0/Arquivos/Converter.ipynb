{
 "cells": [
  {
   "cell_type": "code",
   "execution_count": 3,
   "metadata": {},
   "outputs": [],
   "source": [
    "import pandas as pd\n",
    "import numpy as np"
   ]
  },
  {
   "cell_type": "code",
   "execution_count": 9,
   "metadata": {},
   "outputs": [
    {
     "ename": "UnicodeDecodeError",
     "evalue": "'utf-8' codec can't decode byte 0xb2 in position 44: invalid start byte",
     "output_type": "error",
     "traceback": [
      "\u001b[1;31m---------------------------------------------------------------------------\u001b[0m",
      "\u001b[1;31mUnicodeDecodeError\u001b[0m                        Traceback (most recent call last)",
      "\u001b[1;32m~\\AppData\\Local\\Temp/ipykernel_4672/323920013.py\u001b[0m in \u001b[0;36m<module>\u001b[1;34m\u001b[0m\n\u001b[1;32m----> 1\u001b[1;33m \u001b[0mdados\u001b[0m \u001b[1;33m=\u001b[0m \u001b[0mpd\u001b[0m\u001b[1;33m.\u001b[0m\u001b[0mread_csv\u001b[0m\u001b[1;33m(\u001b[0m\u001b[1;34m\"corrente_inversores.CSV\"\u001b[0m\u001b[1;33m)\u001b[0m\u001b[1;33m\u001b[0m\u001b[1;33m\u001b[0m\u001b[0m\n\u001b[0m\u001b[0;32m      2\u001b[0m \u001b[0mprint\u001b[0m\u001b[1;33m(\u001b[0m\u001b[0mdados\u001b[0m\u001b[1;33m)\u001b[0m\u001b[1;33m\u001b[0m\u001b[1;33m\u001b[0m\u001b[0m\n",
      "\u001b[1;32m~\\AppData\\Local\\Programs\\Python\\Python39\\lib\\site-packages\\pandas\\util\\_decorators.py\u001b[0m in \u001b[0;36mwrapper\u001b[1;34m(*args, **kwargs)\u001b[0m\n\u001b[0;32m    309\u001b[0m                     \u001b[0mstacklevel\u001b[0m\u001b[1;33m=\u001b[0m\u001b[0mstacklevel\u001b[0m\u001b[1;33m,\u001b[0m\u001b[1;33m\u001b[0m\u001b[1;33m\u001b[0m\u001b[0m\n\u001b[0;32m    310\u001b[0m                 )\n\u001b[1;32m--> 311\u001b[1;33m             \u001b[1;32mreturn\u001b[0m \u001b[0mfunc\u001b[0m\u001b[1;33m(\u001b[0m\u001b[1;33m*\u001b[0m\u001b[0margs\u001b[0m\u001b[1;33m,\u001b[0m \u001b[1;33m**\u001b[0m\u001b[0mkwargs\u001b[0m\u001b[1;33m)\u001b[0m\u001b[1;33m\u001b[0m\u001b[1;33m\u001b[0m\u001b[0m\n\u001b[0m\u001b[0;32m    312\u001b[0m \u001b[1;33m\u001b[0m\u001b[0m\n\u001b[0;32m    313\u001b[0m         \u001b[1;32mreturn\u001b[0m \u001b[0mwrapper\u001b[0m\u001b[1;33m\u001b[0m\u001b[1;33m\u001b[0m\u001b[0m\n",
      "\u001b[1;32m~\\AppData\\Local\\Programs\\Python\\Python39\\lib\\site-packages\\pandas\\io\\parsers\\readers.py\u001b[0m in \u001b[0;36mread_csv\u001b[1;34m(filepath_or_buffer, sep, delimiter, header, names, index_col, usecols, squeeze, prefix, mangle_dupe_cols, dtype, engine, converters, true_values, false_values, skipinitialspace, skiprows, skipfooter, nrows, na_values, keep_default_na, na_filter, verbose, skip_blank_lines, parse_dates, infer_datetime_format, keep_date_col, date_parser, dayfirst, cache_dates, iterator, chunksize, compression, thousands, decimal, lineterminator, quotechar, quoting, doublequote, escapechar, comment, encoding, encoding_errors, dialect, error_bad_lines, warn_bad_lines, on_bad_lines, delim_whitespace, low_memory, memory_map, float_precision, storage_options)\u001b[0m\n\u001b[0;32m    584\u001b[0m     \u001b[0mkwds\u001b[0m\u001b[1;33m.\u001b[0m\u001b[0mupdate\u001b[0m\u001b[1;33m(\u001b[0m\u001b[0mkwds_defaults\u001b[0m\u001b[1;33m)\u001b[0m\u001b[1;33m\u001b[0m\u001b[1;33m\u001b[0m\u001b[0m\n\u001b[0;32m    585\u001b[0m \u001b[1;33m\u001b[0m\u001b[0m\n\u001b[1;32m--> 586\u001b[1;33m     \u001b[1;32mreturn\u001b[0m \u001b[0m_read\u001b[0m\u001b[1;33m(\u001b[0m\u001b[0mfilepath_or_buffer\u001b[0m\u001b[1;33m,\u001b[0m \u001b[0mkwds\u001b[0m\u001b[1;33m)\u001b[0m\u001b[1;33m\u001b[0m\u001b[1;33m\u001b[0m\u001b[0m\n\u001b[0m\u001b[0;32m    587\u001b[0m \u001b[1;33m\u001b[0m\u001b[0m\n\u001b[0;32m    588\u001b[0m \u001b[1;33m\u001b[0m\u001b[0m\n",
      "\u001b[1;32m~\\AppData\\Local\\Programs\\Python\\Python39\\lib\\site-packages\\pandas\\io\\parsers\\readers.py\u001b[0m in \u001b[0;36m_read\u001b[1;34m(filepath_or_buffer, kwds)\u001b[0m\n\u001b[0;32m    480\u001b[0m \u001b[1;33m\u001b[0m\u001b[0m\n\u001b[0;32m    481\u001b[0m     \u001b[1;31m# Create the parser.\u001b[0m\u001b[1;33m\u001b[0m\u001b[1;33m\u001b[0m\u001b[0m\n\u001b[1;32m--> 482\u001b[1;33m     \u001b[0mparser\u001b[0m \u001b[1;33m=\u001b[0m \u001b[0mTextFileReader\u001b[0m\u001b[1;33m(\u001b[0m\u001b[0mfilepath_or_buffer\u001b[0m\u001b[1;33m,\u001b[0m \u001b[1;33m**\u001b[0m\u001b[0mkwds\u001b[0m\u001b[1;33m)\u001b[0m\u001b[1;33m\u001b[0m\u001b[1;33m\u001b[0m\u001b[0m\n\u001b[0m\u001b[0;32m    483\u001b[0m \u001b[1;33m\u001b[0m\u001b[0m\n\u001b[0;32m    484\u001b[0m     \u001b[1;32mif\u001b[0m \u001b[0mchunksize\u001b[0m \u001b[1;32mor\u001b[0m \u001b[0miterator\u001b[0m\u001b[1;33m:\u001b[0m\u001b[1;33m\u001b[0m\u001b[1;33m\u001b[0m\u001b[0m\n",
      "\u001b[1;32m~\\AppData\\Local\\Programs\\Python\\Python39\\lib\\site-packages\\pandas\\io\\parsers\\readers.py\u001b[0m in \u001b[0;36m__init__\u001b[1;34m(self, f, engine, **kwds)\u001b[0m\n\u001b[0;32m    809\u001b[0m             \u001b[0mself\u001b[0m\u001b[1;33m.\u001b[0m\u001b[0moptions\u001b[0m\u001b[1;33m[\u001b[0m\u001b[1;34m\"has_index_names\"\u001b[0m\u001b[1;33m]\u001b[0m \u001b[1;33m=\u001b[0m \u001b[0mkwds\u001b[0m\u001b[1;33m[\u001b[0m\u001b[1;34m\"has_index_names\"\u001b[0m\u001b[1;33m]\u001b[0m\u001b[1;33m\u001b[0m\u001b[1;33m\u001b[0m\u001b[0m\n\u001b[0;32m    810\u001b[0m \u001b[1;33m\u001b[0m\u001b[0m\n\u001b[1;32m--> 811\u001b[1;33m         \u001b[0mself\u001b[0m\u001b[1;33m.\u001b[0m\u001b[0m_engine\u001b[0m \u001b[1;33m=\u001b[0m \u001b[0mself\u001b[0m\u001b[1;33m.\u001b[0m\u001b[0m_make_engine\u001b[0m\u001b[1;33m(\u001b[0m\u001b[0mself\u001b[0m\u001b[1;33m.\u001b[0m\u001b[0mengine\u001b[0m\u001b[1;33m)\u001b[0m\u001b[1;33m\u001b[0m\u001b[1;33m\u001b[0m\u001b[0m\n\u001b[0m\u001b[0;32m    812\u001b[0m \u001b[1;33m\u001b[0m\u001b[0m\n\u001b[0;32m    813\u001b[0m     \u001b[1;32mdef\u001b[0m \u001b[0mclose\u001b[0m\u001b[1;33m(\u001b[0m\u001b[0mself\u001b[0m\u001b[1;33m)\u001b[0m\u001b[1;33m:\u001b[0m\u001b[1;33m\u001b[0m\u001b[1;33m\u001b[0m\u001b[0m\n",
      "\u001b[1;32m~\\AppData\\Local\\Programs\\Python\\Python39\\lib\\site-packages\\pandas\\io\\parsers\\readers.py\u001b[0m in \u001b[0;36m_make_engine\u001b[1;34m(self, engine)\u001b[0m\n\u001b[0;32m   1038\u001b[0m             )\n\u001b[0;32m   1039\u001b[0m         \u001b[1;31m# error: Too many arguments for \"ParserBase\"\u001b[0m\u001b[1;33m\u001b[0m\u001b[1;33m\u001b[0m\u001b[0m\n\u001b[1;32m-> 1040\u001b[1;33m         \u001b[1;32mreturn\u001b[0m \u001b[0mmapping\u001b[0m\u001b[1;33m[\u001b[0m\u001b[0mengine\u001b[0m\u001b[1;33m]\u001b[0m\u001b[1;33m(\u001b[0m\u001b[0mself\u001b[0m\u001b[1;33m.\u001b[0m\u001b[0mf\u001b[0m\u001b[1;33m,\u001b[0m \u001b[1;33m**\u001b[0m\u001b[0mself\u001b[0m\u001b[1;33m.\u001b[0m\u001b[0moptions\u001b[0m\u001b[1;33m)\u001b[0m  \u001b[1;31m# type: ignore[call-arg]\u001b[0m\u001b[1;33m\u001b[0m\u001b[1;33m\u001b[0m\u001b[0m\n\u001b[0m\u001b[0;32m   1041\u001b[0m \u001b[1;33m\u001b[0m\u001b[0m\n\u001b[0;32m   1042\u001b[0m     \u001b[1;32mdef\u001b[0m \u001b[0m_failover_to_python\u001b[0m\u001b[1;33m(\u001b[0m\u001b[0mself\u001b[0m\u001b[1;33m)\u001b[0m\u001b[1;33m:\u001b[0m\u001b[1;33m\u001b[0m\u001b[1;33m\u001b[0m\u001b[0m\n",
      "\u001b[1;32m~\\AppData\\Local\\Programs\\Python\\Python39\\lib\\site-packages\\pandas\\io\\parsers\\c_parser_wrapper.py\u001b[0m in \u001b[0;36m__init__\u001b[1;34m(self, src, **kwds)\u001b[0m\n\u001b[0;32m     67\u001b[0m         \u001b[0mkwds\u001b[0m\u001b[1;33m[\u001b[0m\u001b[1;34m\"dtype\"\u001b[0m\u001b[1;33m]\u001b[0m \u001b[1;33m=\u001b[0m \u001b[0mensure_dtype_objs\u001b[0m\u001b[1;33m(\u001b[0m\u001b[0mkwds\u001b[0m\u001b[1;33m.\u001b[0m\u001b[0mget\u001b[0m\u001b[1;33m(\u001b[0m\u001b[1;34m\"dtype\"\u001b[0m\u001b[1;33m,\u001b[0m \u001b[1;32mNone\u001b[0m\u001b[1;33m)\u001b[0m\u001b[1;33m)\u001b[0m\u001b[1;33m\u001b[0m\u001b[1;33m\u001b[0m\u001b[0m\n\u001b[0;32m     68\u001b[0m         \u001b[1;32mtry\u001b[0m\u001b[1;33m:\u001b[0m\u001b[1;33m\u001b[0m\u001b[1;33m\u001b[0m\u001b[0m\n\u001b[1;32m---> 69\u001b[1;33m             \u001b[0mself\u001b[0m\u001b[1;33m.\u001b[0m\u001b[0m_reader\u001b[0m \u001b[1;33m=\u001b[0m \u001b[0mparsers\u001b[0m\u001b[1;33m.\u001b[0m\u001b[0mTextReader\u001b[0m\u001b[1;33m(\u001b[0m\u001b[0mself\u001b[0m\u001b[1;33m.\u001b[0m\u001b[0mhandles\u001b[0m\u001b[1;33m.\u001b[0m\u001b[0mhandle\u001b[0m\u001b[1;33m,\u001b[0m \u001b[1;33m**\u001b[0m\u001b[0mkwds\u001b[0m\u001b[1;33m)\u001b[0m\u001b[1;33m\u001b[0m\u001b[1;33m\u001b[0m\u001b[0m\n\u001b[0m\u001b[0;32m     70\u001b[0m         \u001b[1;32mexcept\u001b[0m \u001b[0mException\u001b[0m\u001b[1;33m:\u001b[0m\u001b[1;33m\u001b[0m\u001b[1;33m\u001b[0m\u001b[0m\n\u001b[0;32m     71\u001b[0m             \u001b[0mself\u001b[0m\u001b[1;33m.\u001b[0m\u001b[0mhandles\u001b[0m\u001b[1;33m.\u001b[0m\u001b[0mclose\u001b[0m\u001b[1;33m(\u001b[0m\u001b[1;33m)\u001b[0m\u001b[1;33m\u001b[0m\u001b[1;33m\u001b[0m\u001b[0m\n",
      "\u001b[1;32m~\\AppData\\Local\\Programs\\Python\\Python39\\lib\\site-packages\\pandas\\_libs\\parsers.pyx\u001b[0m in \u001b[0;36mpandas._libs.parsers.TextReader.__cinit__\u001b[1;34m()\u001b[0m\n",
      "\u001b[1;32m~\\AppData\\Local\\Programs\\Python\\Python39\\lib\\site-packages\\pandas\\_libs\\parsers.pyx\u001b[0m in \u001b[0;36mpandas._libs.parsers.TextReader._get_header\u001b[1;34m()\u001b[0m\n",
      "\u001b[1;32m~\\AppData\\Local\\Programs\\Python\\Python39\\lib\\site-packages\\pandas\\_libs\\parsers.pyx\u001b[0m in \u001b[0;36mpandas._libs.parsers.TextReader._tokenize_rows\u001b[1;34m()\u001b[0m\n",
      "\u001b[1;32m~\\AppData\\Local\\Programs\\Python\\Python39\\lib\\site-packages\\pandas\\_libs\\parsers.pyx\u001b[0m in \u001b[0;36mpandas._libs.parsers.raise_parser_error\u001b[1;34m()\u001b[0m\n",
      "\u001b[1;31mUnicodeDecodeError\u001b[0m: 'utf-8' codec can't decode byte 0xb2 in position 44: invalid start byte"
     ]
    }
   ],
   "source": [
    "dados = pd.read_csv(\"corrente_inversores.CSV\")\n",
    "print(dados)"
   ]
  },
  {
   "cell_type": "code",
   "execution_count": 9,
   "metadata": {},
   "outputs": [],
   "source": [
    "vec_dados = dados.to_numpy()"
   ]
  },
  {
   "cell_type": "code",
   "execution_count": 10,
   "metadata": {},
   "outputs": [
    {
     "data": {
      "text/plain": [
       "array([['GROWATT', 'MID 15KTL3-X', '24,2', 25, 4, '22,5', 1000, 2],\n",
       "       ['GROWATT', 'MID 17KTL3-X', '27,4', 32, 6, '25,5', 1000, 2],\n",
       "       ['GROWATT', 'MID 20KTL3-X', '31,9', 32, 6, '30', 1000, 2],\n",
       "       ['GROWATT', 'MID 22KTL3-X', '35,5', 40, 6, '33', 1000, 2],\n",
       "       ['GROWATT', 'MID 25KTL3-X', '35,5', 40, 6, '37,5', 1000, 2],\n",
       "       ['GROWATT', 'MID 25KTL3-X', '40,2', 50, 10, '37,5', 1000, 2],\n",
       "       ['GROWATT', '7000MTL-S', '33,5', 40, 6, '9,1', 550, 2],\n",
       "       ['GROWATT', '8000MTL-S', '35,7', 40, 6, '10,5', 550, 2],\n",
       "       ['GROWATT', '7000MTL-S', '33,5', 40, 6, '9,1', 550, 2],\n",
       "       ['GROWATT', '8000MTL-S', '35,7', 40, 6, '10,5', 550, 2],\n",
       "       ['GROWATT', 'MIN 2500TL-X', '11,3', 16, 4, '3,5', 500, 2],\n",
       "       ['GROWATT', 'MIN 2500TL-X', '11,3', 16, 4, '4,2', 500, 2],\n",
       "       ['GROWATT', 'MIN 3600TL-X', '16', 20, 4, '5,04', 550, 2],\n",
       "       ['GROWATT', 'MIN 4200TL-X', '19', 20, 4, '5,88', 550, 2],\n",
       "       ['GROWATT', 'MIN 4600TL-X', '20,9', 25, 4, '6,44', 550, 2],\n",
       "       ['GROWATT', 'MIN 5000TL-X', '22,7', 25, 4, '7', 550, 2],\n",
       "       ['GROWATT', 'MIN 6000TL-X', '27,2', 25, 4, '8,1', 550, 2],\n",
       "       ['GROWATT', 'MAX 50KTL3 LV', '80,5', 100, 35, '65', 1100, 6],\n",
       "       ['GROWATT', 'MAX 60KTL3 LV', '96,6', 100, 35, '78', 1100, 6],\n",
       "       ['GROWATT', 'MAX 70KTL3 LV', '112,7', 125, 50, '91', 1100, 6],\n",
       "       ['GROWATT', 'MAX 80KTL3 LV', '128,8', 150, 70, '104', 1100, 6],\n",
       "       ['SOLIS', 'Solis-1P7K-4G', '33,7', 40, 6, '10,5', 600, 3],\n",
       "       ['SOLIS', 'Solis-1P8K-4G', '36,6', 40, 6, '12', 600, 3],\n",
       "       ['SOLIS', 'Solis-1P9K-4G', '41,3', 50, 16, '13,5', 600, 3],\n",
       "       ['SOLIS', 'Solis-1P10K-4G', '45,9', 50, 16, '15', 600, 3],\n",
       "       ['SOLIS', 'Solis-25K-5G', '41,8', 50, 16, '37,5', 1100, 3],\n",
       "       ['SOLIS', 'Solis-30K-5G', '50,2', 63, 16, '45', 1100, 3],\n",
       "       ['SOLIS', 'Solis-33K-5G', '55,1', 63, 16, '49,5', 1100, 3],\n",
       "       ['SOLIS', 'Solis-36K-5G', '60,2', 63, 16, '54', 1100, 4],\n",
       "       ['SOLIS', 'Solis-40K-5G', '66,9', 80, 25, '60', 1100, 4],\n",
       "       ['SOLIS', 'Solis-40K-HV-5G', '53', 63, 16, '60', 1100, 4],\n",
       "       ['SOLIS', 'Solis-50K-HV-5G', '66,2', 70, 25, '75', 1100, 4],\n",
       "       ['SOLIS', 'Solis-50K', '83,3', 100, 35, '75', 1100, 4],\n",
       "       ['SOLIS', 'Solis-50K-HV', '66,2', 70, 25, '75', 1100, 4],\n",
       "       ['SOLIS', 'Solis-60K-HV', '80', 100, 35, '90', 1100, 4],\n",
       "       ['SOLIS', 'Solis-60K-4G', '100', 125, 50, '90', 1100, 4],\n",
       "       ['SOLIS', 'Solis-75K-5G', '114', 125, 50, '120', 1100, 9],\n",
       "       ['SOLIS', 'Solis-80K-5G', '133,7', 150, 50, '120', 1100, 9],\n",
       "       ['SOLIS', 'Solis-1P2.5K-4G', '13,3', 16, 4, '3,75', 550, 2],\n",
       "       ['SOLIS', 'Solis-1P3K-4G', '15,7', 16, 4, '4,5', 600, 2],\n",
       "       ['SOLIS', 'Solis-1P3.6K-4G', '16', 20, 4, '5,4', 600, 2],\n",
       "       ['SOLIS', 'Solis-1P4K-4G', '21', 25, 4, '6', 600, 2],\n",
       "       ['SOLIS', 'Solis-1P4.6K-4G', '23,8', 25, 4, '6,9', 600, 2],\n",
       "       ['SOLIS', 'Solis-1P5K-4G', '25', 32, 6, '7,5', 600, 2],\n",
       "       ['SOLIS', 'Solis-1P6K-4G', '27,3', 32, 6, '9', 600, 2],\n",
       "       ['SOLIS', 'Solis-3P5K-4G', '7,9', 10, 4, '7,5', 1000, 2],\n",
       "       ['SOLIS', 'Solis-3P6K-4G', '9,5', 10, 4, '9', 1000, 2],\n",
       "       ['SOLIS', 'Solis-3P8K-4G', '12,7', 16, 4, '12', 1000, 2],\n",
       "       ['SOLIS', 'Solis-3P9K-4G', '14,3', 16, 4, '13,5', 1000, 2],\n",
       "       ['SOLIS', 'Solis-3P10K-4G', '15,9', 16, 4, '15', 1000, 2],\n",
       "       ['SOLIS', 'Solis-3P12K-4G', '19,1', 25, 4, '18', 1000, 2],\n",
       "       ['SOLIS', 'Solis-3P15K-4G', '23,8', 25, 4, '22,5', 1000, 2],\n",
       "       ['SOLIS', 'Solis-3P17K-4G', '27', 32, 6, '25,5', 1000, 2],\n",
       "       ['SOLIS', 'Solis-3P20K-4G', '31,8', 32, 6, '30', 1000, 2],\n",
       "       ['SMA', 'Sunny Tripower 15000TL', '29', 32, 6, '15', 1000, 3],\n",
       "       ['SMA', 'Sunny Tripower 20000TL', '29', 32, 6, '20', 1000, 3],\n",
       "       ['SMA', 'Sunny Tripower 25000TL', '36,2', 40, 6, '25', 1000, 3],\n",
       "       ['SMA', 'Sunny Tripower CORE1', '72,5', 80, 25, '75', 1000, 6],\n",
       "       ['LIVOLTEK', 'GT1-3K-S', '15', 16, 4, '4,4', 600, 1],\n",
       "       ['LIVOLTEK', 'GT1-5K-D', '25', 32, 6, '5,5', 600, 2],\n",
       "       ['LIVOLTEK', 'GT1-6K-D', '27,3', 32, 6, '8,8', 600, 2],\n",
       "       ['CANADIAN', 'CSI-3K-S22002-ED', '13,6', 16, 4, '4,45', 600, 1],\n",
       "       ['CANADIAN', 'CSI-5K-S22002-ED', '25', 32, 6, '8,19', 600, 2],\n",
       "       ['CANADIAN', 'CSI-5KTL1P-FL', '25', 32, 6, '6,5', 600, 2],\n",
       "       ['CANADIAN', 'CSI-7K-S22002-E', '35', 40, 6, '11,25', 600, 2],\n",
       "       ['CANADIAN', 'CSI-8KTL1P-GI-FL', '36,4', 40, 6, '10,8', 600, 2],\n",
       "       ['CANADIAN', 'CSI-15K-T400GL01-E', '23,8', 25, 4, '22,5', 1000, 2],\n",
       "       ['CANADIAN', 'CSI-20KTL-GI-LFL', '31,8', 32, 6, '30', 1000, 2],\n",
       "       ['CANADIAN', 'CSI-25K-T400GL02-E', '41,8', 50, 16, '37,5', 1100,\n",
       "        3],\n",
       "       ['CANADIAN', 'CSI-25KTL-GI-L', '65,6', 80, 25, '37,5', 1100, 2],\n",
       "       ['CANADIAN', 'CSI-30KTL-GI-L', '78,8', 80, 25, '45', 1100, 2],\n",
       "       ['CANADIAN', 'CSI-50KTL-GI', '76', 80, 25, '58', 1100, 4],\n",
       "       ['CANADIAN', 'CSI-60KTL-GI', '86,6', 100, 35, '72', 1100, 4],\n",
       "       ['CANADIAN', 'CSI-75K-T400GL02-E', '114', 125, 50, '112,5', 1100,\n",
       "        9],\n",
       "       ['CANADIAN', 'CSI-100K-T400GL02-E', '152', 175, 95, '150', 1100,\n",
       "        10],\n",
       "       ['LIVOLTEK', 'GT1 8K', '40', 50, 16, '13,2', 550, 2],\n",
       "       ['LIVOLTEK', 'GT1 10K', '45,5', 50, 16, '14,7', 550, 2],\n",
       "       ['LIVOLTEK', 'GT3-25K', '40', 50, 16, '27,5', 620, 2],\n",
       "       ['LIVOLTEK', 'GT3-30K', '48', 50, 16, '33', 620, 2],\n",
       "       ['Hoymiles', 'MI-1000', '4,54', 10, 4, '1', 60, 4],\n",
       "       ['Hoymiles', 'MI-1200', '5,45', 10, 4, '1,2', 60, 4],\n",
       "       ['Hoymiles', 'MI-1500', '6,2', 10, 4, '1.5', 60, 4],\n",
       "       ['Hoymiles', 'HMS-1800', '8,18', 10, 4, '1.8', 60, 4],\n",
       "       ['Hoymiles', 'HMS-2000', '9,09', 10, 4, '2', 60, 4],\n",
       "       ['GROWATT', 'MAC 30KTL3-X LV', '48,3', 50, 16, '45', 1100, 3],\n",
       "       ['GROWATT', 'MAC 40KTL3-X LV', '64,4', 80, 25, '60', 1100, 3],\n",
       "       ['GROWATT', 'MAC 50KTL3-X LV', '80,5', 100, 35, '75', 1100, 3],\n",
       "       ['GROWATT', 'MAC 60KTL3-X LV', '96,6', 100, 35, '90', 1100, 3],\n",
       "       ['CANADIAN', 'CSI-9K-S2202-E', '40,9', 50, 16, '13,5', 600, 2]],\n",
       "      dtype=object)"
      ]
     },
     "execution_count": 10,
     "metadata": {},
     "output_type": "execute_result"
    }
   ],
   "source": [
    "vec_dados"
   ]
  },
  {
   "cell_type": "code",
   "execution_count": null,
   "metadata": {},
   "outputs": [],
   "source": []
  }
 ],
 "metadata": {
  "interpreter": {
   "hash": "7c239c9e803aa87c3815454c42da92f1af28c0cbd1b711d488a058e58bc0122e"
  },
  "kernelspec": {
   "display_name": "Python 3.9.7 64-bit",
   "language": "python",
   "name": "python3"
  },
  "language_info": {
   "codemirror_mode": {
    "name": "ipython",
    "version": 3
   },
   "file_extension": ".py",
   "mimetype": "text/x-python",
   "name": "python",
   "nbconvert_exporter": "python",
   "pygments_lexer": "ipython3",
   "version": "3.9.7"
  },
  "orig_nbformat": 4
 },
 "nbformat": 4,
 "nbformat_minor": 2
}
