{
 "cells": [
  {
   "cell_type": "code",
   "execution_count": 1,
   "metadata": {},
   "outputs": [],
   "source": [
    "import pandas as pd\n",
    "import numpy as np"
   ]
  },
  {
   "cell_type": "code",
   "execution_count": 4,
   "metadata": {},
   "outputs": [
    {
     "name": "stdout",
     "output_type": "stream",
     "text": [
      "       Marca           Modelo Corrente  Disjuntor  Condutor (mm²)  \\\n",
      "0    GROWATT     MID 15KTL3-X     24,2         25               4   \n",
      "1    GROWATT     MID 17KTL3-X     27,4         32               6   \n",
      "2    GROWATT     MID 20KTL3-X     31,9         32               6   \n",
      "3    GROWATT     MID 22KTL3-X     35,5         40               6   \n",
      "4    GROWATT     MID 25KTL3-X     35,5         40               6   \n",
      "..       ...              ...      ...        ...             ...   \n",
      "84   GROWATT  MAC 30KTL3-X LV     48,3         50              16   \n",
      "85   GROWATT  MAC 40KTL3-X LV     64,4         80              25   \n",
      "86   GROWATT  MAC 50KTL3-X LV     80,5        100              35   \n",
      "87   GROWATT  MAC 60KTL3-X LV     96,6        100              35   \n",
      "88  CANADIAN   CSI-9K-S2202-E     40,9         50              16   \n",
      "\n",
      "   Pot Máx (kW)   Voc  \n",
      "0          22,5  1000  \n",
      "1          25,5  1000  \n",
      "2            30  1000  \n",
      "3            33  1000  \n",
      "4          37,5  1000  \n",
      "..          ...   ...  \n",
      "84           45  1100  \n",
      "85           60  1100  \n",
      "86           75  1100  \n",
      "87           90  1100  \n",
      "88         13,5   600  \n",
      "\n",
      "[89 rows x 7 columns]\n"
     ]
    }
   ],
   "source": [
    "dados = pd.read_csv(\"dados inversores completo.csv\")\n",
    "print(dados)"
   ]
  },
  {
   "cell_type": "code",
   "execution_count": 5,
   "metadata": {},
   "outputs": [],
   "source": [
    "vec_dados = dados.to_numpy()"
   ]
  },
  {
   "cell_type": "code",
   "execution_count": 6,
   "metadata": {},
   "outputs": [
    {
     "data": {
      "text/plain": [
       "array([['GROWATT', 'MID 15KTL3-X', '24,2', 25, 4, '22,5', 1000],\n",
       "       ['GROWATT', 'MID 17KTL3-X', '27,4', 32, 6, '25,5', 1000],\n",
       "       ['GROWATT', 'MID 20KTL3-X', '31,9', 32, 6, '30', 1000],\n",
       "       ['GROWATT', 'MID 22KTL3-X', '35,5', 40, 6, '33', 1000],\n",
       "       ['GROWATT', 'MID 25KTL3-X', '35,5', 40, 6, '37,5', 1000],\n",
       "       ['GROWATT', 'MID 25KTL3-X', '40,2', 50, 10, '37,5', 1000],\n",
       "       ['GROWATT', '7000MTL-S', '33,5', 40, 6, '9,1', 550],\n",
       "       ['GROWATT', '8000MTL-S', '35,7', 40, 6, '10,5', 550],\n",
       "       ['GROWATT', '7000MTL-S', '33,5', 40, 6, '9,1', 550],\n",
       "       ['GROWATT', '8000MTL-S', '35,7', 40, 6, '10,5', 550],\n",
       "       ['GROWATT', 'MIN 2500TL-X', '11,3', 16, 4, '3,5', 500],\n",
       "       ['GROWATT', 'MIN 2500TL-X', '11,3', 16, 4, '4,2', 500],\n",
       "       ['GROWATT', 'MIN 3600TL-X', '16', 20, 4, '5,04', 550],\n",
       "       ['GROWATT', 'MIN 4200TL-X', '19', 20, 4, '5,88', 550],\n",
       "       ['GROWATT', 'MIN 4600TL-X', '20,9', 25, 4, '6,44', 550],\n",
       "       ['GROWATT', 'MIN 5000TL-X', '22,7', 25, 4, '7', 550],\n",
       "       ['GROWATT', 'MIN 6000TL-X', '27,2', 25, 4, '8,1', 550],\n",
       "       ['GROWATT', 'MAX 50KTL3 LV', '80,5', 100, 35, '65', 1100],\n",
       "       ['GROWATT', 'MAX 60KTL3 LV', '96,6', 100, 35, '78', 1100],\n",
       "       ['GROWATT', 'MAX 70KTL3 LV', '112,7', 125, 50, '91', 1100],\n",
       "       ['GROWATT', 'MAX 80KTL3 LV', '128,8', 150, 70, '104', 1100],\n",
       "       ['SOLIS', 'Solis-1P7K-4G', '33,7', 40, 6, '10,5', 600],\n",
       "       ['SOLIS', 'Solis-1P8K-4G', '36,6', 40, 6, '12', 600],\n",
       "       ['SOLIS', 'Solis-1P9K-4G', '41,3', 50, 16, '13,5', 600],\n",
       "       ['SOLIS', 'Solis-1P10K-4G', '45,9', 50, 16, '15', 600],\n",
       "       ['SOLIS', 'Solis-25K-5G', '41,8', 50, 16, '37,5', 1100],\n",
       "       ['SOLIS', 'Solis-30K-5G', '50,2', 63, 16, '45', 1100],\n",
       "       ['SOLIS', 'Solis-33K-5G', '55,1', 63, 16, '49,5', 1100],\n",
       "       ['SOLIS', 'Solis-36K-5G', '60,2', 63, 16, '54', 1100],\n",
       "       ['SOLIS', 'Solis-40K-5G', '66,9', 80, 25, '60', 1100],\n",
       "       ['SOLIS', 'Solis-40K-HV-5G', '53', 63, 16, '60', 1100],\n",
       "       ['SOLIS', 'Solis-50K-HV-5G', '66,2', 70, 25, '75', 1100],\n",
       "       ['SOLIS', 'Solis-50K', '83,3', 100, 35, '75', 1100],\n",
       "       ['SOLIS', 'Solis-50K-HV', '66,2', 70, 25, '75', 1100],\n",
       "       ['SOLIS', 'Solis-60K-HV', '80', 100, 35, '90', 1100],\n",
       "       ['SOLIS', 'Solis-60K-4G', '100', 125, 50, '90', 1100],\n",
       "       ['SOLIS', 'Solis-75K-5G', '114', 125, 50, '120', 1100],\n",
       "       ['SOLIS', 'Solis-80K-5G', '133,7', 150, 50, '120', 1100],\n",
       "       ['SOLIS', 'Solis-1P2.5K-4G', '13,3', 16, 4, '3,75', 550],\n",
       "       ['SOLIS', 'Solis-1P3K-4G', '15,7', 16, 4, '4,5', 600],\n",
       "       ['SOLIS', 'Solis-1P3.6K-4G', '16', 20, 4, '5,4', 600],\n",
       "       ['SOLIS', 'Solis-1P4K-4G', '21', 25, 4, '6', 600],\n",
       "       ['SOLIS', 'Solis-1P4.6K-4G', '23,8', 25, 4, '6,9', 600],\n",
       "       ['SOLIS', 'Solis-1P5K-4G', '25', 32, 6, '7,5', 600],\n",
       "       ['SOLIS', 'Solis-1P6K-4G', '27,3', 32, 6, '9', 600],\n",
       "       ['SOLIS', 'Solis-3P5K-4G', '7,9', 10, 4, '7,5', 1000],\n",
       "       ['SOLIS', 'Solis-3P6K-4G', '9,5', 10, 4, '9', 1000],\n",
       "       ['SOLIS', 'Solis-3P8K-4G', '12,7', 16, 4, '12', 1000],\n",
       "       ['SOLIS', 'Solis-3P9K-4G', '14,3', 16, 4, '13,5', 1000],\n",
       "       ['SOLIS', 'Solis-3P10K-4G', '15,9', 16, 4, '15', 1000],\n",
       "       ['SOLIS', 'Solis-3P12K-4G', '19,1', 25, 4, '18', 1000],\n",
       "       ['SOLIS', 'Solis-3P15K-4G', '23,8', 25, 4, '22,5', 1000],\n",
       "       ['SOLIS', 'Solis-3P17K-4G', '27', 32, 6, '25,5', 1000],\n",
       "       ['SOLIS', 'Solis-3P20K-4G', '31,8', 32, 6, '30', 1000],\n",
       "       ['SMA', 'Sunny Tripower 15000TL', '29', 32, 6, '15', 1000],\n",
       "       ['SMA', 'Sunny Tripower 20000TL', '29', 32, 6, '20', 1000],\n",
       "       ['SMA', 'Sunny Tripower 25000TL', '36,2', 40, 6, '25', 1000],\n",
       "       ['SMA', 'Sunny Tripower CORE1', '72,5', 80, 25, '75', 1000],\n",
       "       ['LIVOLTEK', 'GT1-3K-S', '15', 16, 4, '4,4', 600],\n",
       "       ['LIVOLTEK', 'GT1-5K-D', '25', 32, 6, '5,5', 600],\n",
       "       ['LIVOLTEK', 'GT1-6K-D', '27,3', 32, 6, '8,8', 600],\n",
       "       ['CANADIAN', 'CSI-3K-S22002-ED', '13,6', 16, 4, '4,45', 600],\n",
       "       ['CANADIAN', 'CSI-5K-S22002-ED', '25', 32, 6, '8,19', 600],\n",
       "       ['CANADIAN', 'CSI-5KTL1P-FL', '25', 32, 6, '6,5', 600],\n",
       "       ['CANADIAN', 'CSI-7K-S22002-E', '35', 40, 6, '11,25', 600],\n",
       "       ['CANADIAN', 'CSI-8KTL1P-GI-FL', '36,4', 40, 6, '10,8', 600],\n",
       "       ['CANADIAN', 'CSI-15K-T400GL01-E', '23,8', 25, 4, '22,5', 1000],\n",
       "       ['CANADIAN', 'CSI-20KTL-GI-LFL', '31,8', 32, 6, '30', 1000],\n",
       "       ['CANADIAN', 'CSI-25K-T400GL02-E', '41,8', 50, 16, '37,5', 1100],\n",
       "       ['CANADIAN', 'CSI-25KTL-GI-L', '65,6', 80, 25, '37,5', 1100],\n",
       "       ['CANADIAN', 'CSI-30KTL-GI-L', '78,8', 80, 25, '45', 1100],\n",
       "       ['CANADIAN', 'CSI-50KTL-GI', '76', 80, 25, '58', 1100],\n",
       "       ['CANADIAN', 'CSI-60KTL-GI', '86,6', 100, 35, '72', 1100],\n",
       "       ['CANADIAN', 'CSI-75K-T400GL02-E', '114', 125, 50, '112,5', 1100],\n",
       "       ['CANADIAN', 'CSI-100K-T400GL02-E', '152', 175, 95, '150', 1100],\n",
       "       ['LIVOLTEK', 'GT1 8K', '40', 50, 16, '13,2', 550],\n",
       "       ['LIVOLTEK', 'GT1 10K', '45,5', 50, 16, '14,7', 550],\n",
       "       ['LIVOLTEK', 'GT3-25K', '40', 50, 16, '27,5', 620],\n",
       "       ['LIVOLTEK', 'GT3-30K', '48', 50, 16, '33', 620],\n",
       "       ['Hoymiles', 'MI-1000', '4,54', 10, 4, '1', 60],\n",
       "       ['Hoymiles', 'MI-1200', '5,45', 10, 4, '1,2', 60],\n",
       "       ['Hoymiles', 'MI-1500', '6,2', 10, 4, '1.5', 60],\n",
       "       ['Hoymiles', 'HMS-1800', '8,18', 10, 4, '1.8', 60],\n",
       "       ['Hoymiles', 'HMS-2000', '9,09', 10, 4, '2', 60],\n",
       "       ['GROWATT', 'MAC 30KTL3-X LV', '48,3', 50, 16, '45', 1100],\n",
       "       ['GROWATT', 'MAC 40KTL3-X LV', '64,4', 80, 25, '60', 1100],\n",
       "       ['GROWATT', 'MAC 50KTL3-X LV', '80,5', 100, 35, '75', 1100],\n",
       "       ['GROWATT', 'MAC 60KTL3-X LV', '96,6', 100, 35, '90', 1100],\n",
       "       ['CANADIAN', 'CSI-9K-S2202-E', '40,9', 50, 16, '13,5', 600]],\n",
       "      dtype=object)"
      ]
     },
     "execution_count": 6,
     "metadata": {},
     "output_type": "execute_result"
    }
   ],
   "source": [
    "vec_dados"
   ]
  },
  {
   "cell_type": "code",
   "execution_count": null,
   "metadata": {},
   "outputs": [],
   "source": []
  }
 ],
 "metadata": {
  "interpreter": {
   "hash": "7c239c9e803aa87c3815454c42da92f1af28c0cbd1b711d488a058e58bc0122e"
  },
  "kernelspec": {
   "display_name": "Python 3.9.7 64-bit",
   "language": "python",
   "name": "python3"
  },
  "language_info": {
   "codemirror_mode": {
    "name": "ipython",
    "version": 3
   },
   "file_extension": ".py",
   "mimetype": "text/x-python",
   "name": "python",
   "nbconvert_exporter": "python",
   "pygments_lexer": "ipython3",
   "version": "3.9.7"
  },
  "orig_nbformat": 4
 },
 "nbformat": 4,
 "nbformat_minor": 2
}
